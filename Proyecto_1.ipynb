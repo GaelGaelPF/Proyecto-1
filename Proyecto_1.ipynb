{
  "nbformat": 4,
  "nbformat_minor": 0,
  "metadata": {
    "colab": {
      "provenance": []
    },
    "kernelspec": {
      "name": "python3",
      "display_name": "Python 3"
    },
    "language_info": {
      "name": "python"
    }
  },
  "cells": [
    {
      "cell_type": "code",
      "source": [
        "# Alumno: Gael Peña Fonseca\n",
        "# Proyecto_1: Algoritmo PageRank\n",
        "\n",
        "import numpy as np\n",
        "import pandas as pd\n",
        "from google.colab import drive\n",
        "drive.mount(\"mnt\")"
      ],
      "metadata": {
        "colab": {
          "base_uri": "https://localhost:8080/"
        },
        "id": "fyvR886EU5e5",
        "outputId": "a59e2369-8c56-475a-db36-2c7cdbe04b80"
      },
      "execution_count": 66,
      "outputs": [
        {
          "output_type": "stream",
          "name": "stdout",
          "text": [
            "Drive already mounted at mnt; to attempt to forcibly remount, call drive.mount(\"mnt\", force_remount=True).\n"
          ]
        }
      ]
    },
    {
      "cell_type": "code",
      "execution_count": 9,
      "metadata": {
        "id": "c_BkHXYaB8xk"
      },
      "outputs": [],
      "source": [
        "\n",
        "\n",
        "class Grafica():\n",
        "  \"\"\"Esta no es una grafica\"\"\"\n",
        "  def __init__(self, nodos, arcos):\n",
        "    \"\"\"Descripción del constructor\"\"\"\n",
        "\n",
        "    \"\"\"Crea una matriz cuadrada donde la cantidad de filas y columnas\n",
        "       depende de la cantidad de nodos\"\"\"\n",
        "\n",
        "    self.matriz = np.zeros((len(nodos),len(nodos)))\n",
        "    for x in arcos:\n",
        "      self.matriz[x[0],x[1]] = 1\n",
        "\n",
        "  def __str__(self):\n",
        "    return str(self.matriz)\n",
        "\n",
        "  \"\"\"agregar_arco(self, tupla) recibe una tupla de dos elementos y agrega\n",
        "     el respectivo 1 a la matriz\"\"\"\n",
        "  def agregar_arco(self, tupla):\n",
        "    self.matriz[tupla[0], tupla[1]] = 1\n",
        "\n",
        "  \"\"\"quitar_arco(self, tupla) Es similar a agregar_arco(self, tupla) xd,\n",
        "    solo que asigna un respectivo 0 a la matriz \"\"\"\n",
        "  def quitar_arco(self, tupla):\n",
        "    self.matriz[tupla[0], tupla[1]] = 0\n",
        "\n",
        "  \"\"\"num_nodos(self) calcula el tamaño de la matriz pero eso representa\n",
        "     el num de nodos\"\"\"\n",
        "  def num_nodos(self):\n",
        "    return len(self.matriz)\n",
        "\n",
        "  \"\"\"num_arcos(self) Suma las entradas 1 de la matriz, eso representa\n",
        "     la cantidad de arcos \"\"\"\n",
        "  def num_arcos(self):\n",
        "    return int(self.matriz.sum())\n",
        "\n",
        "  \"\"\" gregar_nodo(self) representa un nodo en la matriz\n",
        "      i vertical, j horizontal, con np.hstack agrega la columna a la\n",
        "      derecha, con np.vstack agrega la fila abajo, ojo que el +1 en\n",
        "      horizontal = np.zeros((1,len(self.matriz)+1)) es importante para\n",
        "      que la matriz siga siendo cuadrada\"\"\"\n",
        "  def agregar_nodo(self):\n",
        "    vertical = np.zeros((len(self.matriz),1))\n",
        "    horizontal = np.zeros((1,len(self.matriz)+1))\n",
        "    self.matriz = np.vstack((np.hstack((self.matriz,vertical)),\n",
        "                             horizontal))\n",
        "  \"\"\"quitar_nodo(self, nodo) quita la representación de un nodo en la\n",
        "     matriz quitando su columna y fila respectiva   \"\"\"\n",
        "  def quitar_nodo(self, nodo):\n",
        "    self.matriz = np.delete(self.matriz, (nodo), axis=0)\n",
        "    self.matriz = np.delete(self.matriz, (nodo), axis=1)\n"
      ]
    },
    {
      "cell_type": "code",
      "source": [
        "DF = pd.read_excel(\"/content/mnt/MyDrive/Web.xlsx\")\n",
        "print(DF)"
      ],
      "metadata": {
        "colab": {
          "base_uri": "https://localhost:8080/"
        },
        "id": "YUPjk--8VhfJ",
        "outputId": "d5c791c0-3285-45e4-800c-51aae29b4f09"
      },
      "execution_count": 14,
      "outputs": [
        {
          "output_type": "stream",
          "name": "stdout",
          "text": [
            "                Website  Index           Cited by\n",
            "0           nytimes.com      1           2, 7, 11\n",
            "1    washingtonpost.com      2         1, 4, 6, 9\n",
            "2               cnn.com      3        1, 5, 9, 11\n",
            "3           foxnews.com      4        2, 3, 8, 14\n",
            "4            forbes.com      5          3, 12, 15\n",
            "5         bloomberg.com      6       2, 8, 13, 15\n",
            "6               wsj.com      7           3, 9, 10\n",
            "7          huffpost.com      8        2, 4, 5, 12\n",
            "8   businessinsider.com      9    2, 3, 7, 13, 15\n",
            "9               npr.org     10            4, 7, 8\n",
            "10       techcrunch.com     11           1, 3, 15\n",
            "11         theverge.com     12           5, 8, 13\n",
            "12          reuters.com     13       1, 9, 12, 15\n",
            "13         politico.com     14            4, 5, 6\n",
            "14         mashable.com     15    5, 6, 9, 11, 13\n",
            "15            yandex.ru     16         17, 18, 20\n",
            "16             lenta.ru     17         16, 19, 21\n",
            "17            gazeta.ru     18         16, 20, 22\n",
            "18               ria.ru     19         17, 21, 24\n",
            "19               rbk.ru     20     16, 18, 22, 23\n",
            "20              tass.ru     21         17, 19, 24\n",
            "21                iz.ru     22         18, 20, 25\n",
            "22        kommersant.ru     23         20, 24, 25\n",
            "23         vedomosti.ru     24     19, 21, 23, 25\n",
            "24            regnum.ru     25         22, 23, 24\n",
            "25   federalreserve.gov     26  1, 2, 5, 7, 9, 26\n"
          ]
        }
      ]
    },
    {
      "cell_type": "code",
      "source": [
        "def construccion_pd(nm):\n",
        "#Esto no es una función\n",
        "\n",
        "     \"\"\"\n",
        "     pd.read_excel(nm) va a leer el archivo en nm, lo carga en DF, que\n",
        "     es un data frame de pandas y gracias a ello podemos extraer infor-\n",
        "     mación a través de las columnas del archivo\n",
        "     \"\"\"\n",
        "     DF = pd.read_excel(nm)\n",
        "\n",
        "     \"\"\"\n",
        "     Hace una lista del 0 al 25, lo que representa que al 0 le asigno\n",
        "     el valor 1 de la columna Index, al 1 el valor 2 de Index y asi hasta\n",
        "     wl 25 que le asigno el valor 26 de la columna Index\n",
        "     \"\"\"\n",
        "     Nodos = list(range(len(DF[\"Index\"])))\n",
        "\n",
        "     \"\"\"\n",
        "     list(DF[\"Cited by\"]) hace una lista con los valores de la columna\n",
        "     Cited by del excel\n",
        "     \"\"\"\n",
        "     Citas = list(DF[\"Cited by\"])\n",
        "\n",
        "     \"\"\"\n",
        "     Primero se crea una lista vacia que se llama Arcos,\n",
        "     for i in range(len(Citas)) crea un rango con la longitud de la lista\n",
        "     Citas y los elementos de la forma Citas[i] representan las citas de\n",
        "     un nodo particular\n",
        "\n",
        "     for j in Citas[i].split(',') separa los elemntos de cada Citas[i]\n",
        "     por comas\n",
        "\n",
        "     Arcos.append((int(j)-1,i)) Crea las respectivas tuplas para añadirlas\n",
        "     a la lista vacia de Arcos\n",
        "     \"\"\"\n",
        "     Arcos = []\n",
        "\n",
        "     for i in range(len(Citas)):\n",
        "         for j in Citas[i].split(','):\n",
        "            Arcos.append((int(j)-1,i))\n",
        "     return Grafica(Nodos, Arcos)\n",
        "\n",
        "\n",
        "\n",
        "M = construccion_pd('/content/mnt/MyDrive/Web.xlsx').matriz\n",
        "\n",
        "print(M)"
      ],
      "metadata": {
        "colab": {
          "base_uri": "https://localhost:8080/"
        },
        "id": "NbVawOdtWUTZ",
        "outputId": "91f38514-8bc2-4d3a-efad-172924722ad3"
      },
      "execution_count": 29,
      "outputs": [
        {
          "output_type": "stream",
          "name": "stdout",
          "text": [
            "[[0. 1. 1. 0. 0. 0. 0. 0. 0. 0. 1. 0. 1. 0. 0. 0. 0. 0. 0. 0. 0. 0. 0. 0.\n",
            "  0. 1.]\n",
            " [1. 0. 0. 1. 0. 1. 0. 1. 1. 0. 0. 0. 0. 0. 0. 0. 0. 0. 0. 0. 0. 0. 0. 0.\n",
            "  0. 1.]\n",
            " [0. 0. 0. 1. 1. 0. 1. 0. 1. 0. 1. 0. 0. 0. 0. 0. 0. 0. 0. 0. 0. 0. 0. 0.\n",
            "  0. 0.]\n",
            " [0. 1. 0. 0. 0. 0. 0. 1. 0. 1. 0. 0. 0. 1. 0. 0. 0. 0. 0. 0. 0. 0. 0. 0.\n",
            "  0. 0.]\n",
            " [0. 0. 1. 0. 0. 0. 0. 1. 0. 0. 0. 1. 0. 1. 1. 0. 0. 0. 0. 0. 0. 0. 0. 0.\n",
            "  0. 1.]\n",
            " [0. 1. 0. 0. 0. 0. 0. 0. 0. 0. 0. 0. 0. 1. 1. 0. 0. 0. 0. 0. 0. 0. 0. 0.\n",
            "  0. 0.]\n",
            " [1. 0. 0. 0. 0. 0. 0. 0. 1. 1. 0. 0. 0. 0. 0. 0. 0. 0. 0. 0. 0. 0. 0. 0.\n",
            "  0. 1.]\n",
            " [0. 0. 0. 1. 0. 1. 0. 0. 0. 1. 0. 1. 0. 0. 0. 0. 0. 0. 0. 0. 0. 0. 0. 0.\n",
            "  0. 0.]\n",
            " [0. 1. 1. 0. 0. 0. 1. 0. 0. 0. 0. 0. 1. 0. 1. 0. 0. 0. 0. 0. 0. 0. 0. 0.\n",
            "  0. 1.]\n",
            " [0. 0. 0. 0. 0. 0. 1. 0. 0. 0. 0. 0. 0. 0. 0. 0. 0. 0. 0. 0. 0. 0. 0. 0.\n",
            "  0. 0.]\n",
            " [1. 0. 1. 0. 0. 0. 0. 0. 0. 0. 0. 0. 0. 0. 1. 0. 0. 0. 0. 0. 0. 0. 0. 0.\n",
            "  0. 0.]\n",
            " [0. 0. 0. 0. 1. 0. 0. 1. 0. 0. 0. 0. 1. 0. 0. 0. 0. 0. 0. 0. 0. 0. 0. 0.\n",
            "  0. 0.]\n",
            " [0. 0. 0. 0. 0. 1. 0. 0. 1. 0. 0. 1. 0. 0. 1. 0. 0. 0. 0. 0. 0. 0. 0. 0.\n",
            "  0. 0.]\n",
            " [0. 0. 0. 1. 0. 0. 0. 0. 0. 0. 0. 0. 0. 0. 0. 0. 0. 0. 0. 0. 0. 0. 0. 0.\n",
            "  0. 0.]\n",
            " [0. 0. 0. 0. 1. 1. 0. 0. 1. 0. 1. 0. 1. 0. 0. 0. 0. 0. 0. 0. 0. 0. 0. 0.\n",
            "  0. 0.]\n",
            " [0. 0. 0. 0. 0. 0. 0. 0. 0. 0. 0. 0. 0. 0. 0. 0. 1. 1. 0. 1. 0. 0. 0. 0.\n",
            "  0. 0.]\n",
            " [0. 0. 0. 0. 0. 0. 0. 0. 0. 0. 0. 0. 0. 0. 0. 1. 0. 0. 1. 0. 1. 0. 0. 0.\n",
            "  0. 0.]\n",
            " [0. 0. 0. 0. 0. 0. 0. 0. 0. 0. 0. 0. 0. 0. 0. 1. 0. 0. 0. 1. 0. 1. 0. 0.\n",
            "  0. 0.]\n",
            " [0. 0. 0. 0. 0. 0. 0. 0. 0. 0. 0. 0. 0. 0. 0. 0. 1. 0. 0. 0. 1. 0. 0. 1.\n",
            "  0. 0.]\n",
            " [0. 0. 0. 0. 0. 0. 0. 0. 0. 0. 0. 0. 0. 0. 0. 1. 0. 1. 0. 0. 0. 1. 1. 0.\n",
            "  0. 0.]\n",
            " [0. 0. 0. 0. 0. 0. 0. 0. 0. 0. 0. 0. 0. 0. 0. 0. 1. 0. 1. 0. 0. 0. 0. 1.\n",
            "  0. 0.]\n",
            " [0. 0. 0. 0. 0. 0. 0. 0. 0. 0. 0. 0. 0. 0. 0. 0. 0. 1. 0. 1. 0. 0. 0. 0.\n",
            "  1. 0.]\n",
            " [0. 0. 0. 0. 0. 0. 0. 0. 0. 0. 0. 0. 0. 0. 0. 0. 0. 0. 0. 1. 0. 0. 0. 1.\n",
            "  1. 0.]\n",
            " [0. 0. 0. 0. 0. 0. 0. 0. 0. 0. 0. 0. 0. 0. 0. 0. 0. 0. 1. 0. 1. 0. 1. 0.\n",
            "  1. 0.]\n",
            " [0. 0. 0. 0. 0. 0. 0. 0. 0. 0. 0. 0. 0. 0. 0. 0. 0. 0. 0. 0. 0. 1. 1. 1.\n",
            "  0. 0.]\n",
            " [0. 0. 0. 0. 0. 0. 0. 0. 0. 0. 0. 0. 0. 0. 0. 0. 0. 0. 0. 0. 0. 0. 0. 0.\n",
            "  0. 1.]]\n"
          ]
        }
      ]
    },
    {
      "cell_type": "code",
      "source": [
        "\"\"\"\n",
        "Vamos a recorrer cada fila de la matriz de la siguiente manera\n",
        "for i in range(len(matriz))>0  si la suma de una fila es positiva\n",
        "procede a dividir cada elemento de la fila por la norma de ese\n",
        "vector, esto se representa con matriz[i, :] /= matriz[i, :].sum()\n",
        " y asi hasta la ultima fila\n",
        "\"\"\"\n",
        "def llmatrizll(matriz):\n",
        "\n",
        "    for i in range(len(matriz)):\n",
        "        if matriz[i, :].sum() > 0:\n",
        "            matriz[i, :] /= matriz[i, :].sum()\n",
        "    return matriz"
      ],
      "metadata": {
        "id": "AzphX04Hnr8E"
      },
      "execution_count": 36,
      "outputs": []
    },
    {
      "cell_type": "code",
      "source": [
        "#Pregunta 1\n",
        "def calcular_PR(matriz, Epsilon=1e-6):\n",
        "\n",
        "    n = len(matriz)  #Numero de nodos\n",
        "\n",
        "    \"\"\"\n",
        "    Voy a niciar con un vector de la forma\n",
        "    (1/n,...,1/n)\n",
        "    \"\"\"\n",
        "    pi = np.ones((1, n)) / n\n",
        "\n",
        "    pi_1 = []\n",
        "\n",
        "    for j in range(n):\n",
        "        #Calcular el valor para la columna j\n",
        "        valor_columna = sum(pi[0][k] * matriz[k][j] for k in range(n))\n",
        "        pi_1.append(valor_columna)\n",
        "\n",
        "\n",
        "    pi_1 = np.array([pi_1])\n",
        "\n",
        "    \"\"\"\n",
        "    Itera hasta que la norma entre vectores consecutivos sea menor que\n",
        "    Epsilon\n",
        "    \"\"\"\n",
        "    while np.linalg.norm(pi - pi_1) > Epsilon:\n",
        "        #Actualizar el vector pi\n",
        "        pi = pi_1\n",
        "\n",
        "        #Calcular el siguiente vector iterativo\n",
        "        SSJ_pi_1 = []\n",
        "        for j in range(n):\n",
        "            #Calcular el valor para la columna j\n",
        "            valor_columna = sum(pi[0][k] * matriz[k][j] for k in range(n))\n",
        "            SSJ_pi_1.append(valor_columna)\n",
        "\n",
        "\n",
        "        pi_1 = np.array([SSJ_pi_1])\n",
        "    \"\"\"\n",
        "    Devuelve el PR final de cada nodo\n",
        "    \"\"\"\n",
        "    return np.array(pi[0])\n",
        "\n",
        "calcular_PR(M)"
      ],
      "metadata": {
        "colab": {
          "base_uri": "https://localhost:8080/"
        },
        "id": "fPXtREDStfS0",
        "outputId": "bb4cef88-558e-4c08-f821-76d6ece36cfa"
      },
      "execution_count": 43,
      "outputs": [
        {
          "output_type": "execute_result",
          "data": {
            "text/plain": [
              "array([7.33320314e-07, 1.01764169e-06, 6.33367242e-07, 1.36085707e-06,\n",
              "       5.34701306e-07, 8.20661192e-07, 1.37005441e-06, 8.33927232e-07,\n",
              "       1.10169011e-06, 9.60685274e-07, 5.04500778e-07, 5.24041574e-07,\n",
              "       7.54179322e-07, 7.57679334e-07, 9.73391912e-07, 3.60576923e-02,\n",
              "       3.60576923e-02, 3.60576923e-02, 3.60576923e-02, 4.80769231e-02,\n",
              "       3.60576923e-02, 3.60576923e-02, 3.60576923e-02, 4.80769231e-02,\n",
              "       3.60576923e-02, 6.15371735e-01])"
            ]
          },
          "metadata": {},
          "execution_count": 43
        }
      ]
    },
    {
      "cell_type": "code",
      "source": [
        "#Pregunta 2\n",
        "\n",
        "\n",
        "# Normalización de la matriz\n",
        "grafica = construccion_pd('/content/mnt/MyDrive/Web.xlsx')\n",
        "matriz_kaioken = llmatrizll(grafica.matriz)\n",
        "\n",
        "\n",
        "\n",
        "def PR_modificado(matriz, condicion, Epsilon_medios=1e-6):\n",
        "    \"\"\"\n",
        "    Cálculo de PageRank con un vector inicial modificado basado en una\n",
        "    condición, Para la prehgunta 2 terminación.ru\n",
        "    La condición es un vector booleano donde `True` indica que\n",
        "    la página cumple la condicion\n",
        "    \"\"\"\n",
        "    n = len(matriz)  # Número de nodos\n",
        "\n",
        "    # Verificar si alguna página cumple con la condición que se pide\n",
        "    if np.sum(condicion) == 0:\n",
        "        print(\"No hay páginas que cumplan la condición :c.\")\n",
        "        return np.zeros((1, n))\n",
        "\n",
        "    # Crear el vector inicial basado en la condición\n",
        "    pi = np.array([\n",
        "        1 / np.sum(condicion) if cumple else 0\n",
        "        for cumple in condicion\n",
        "    ])\n",
        "    pi = pi.reshape(1, -1)  # Asegurarse de que el vector sea una fila\n",
        "\n",
        "    # Inicializar el primer producto matricial\n",
        "    pi_1 = pi @ matriz\n",
        "\n",
        "    # Iterar hasta que sea menor que epsilon_medios\n",
        "    while np.linalg.norm(pi - pi_1) > Epsilon_medios:\n",
        "        pi = pi_1\n",
        "        pi_1 = pi @ matriz\n",
        "\n",
        "    return pi_1\n",
        "\n",
        "\"\"\"\n",
        "Ahora si, contestemos la pregunta 2 :D\n",
        "\"\"\"\n",
        "condicion = np.array([\n",
        "    str(website).strip().endswith(\".ru\") for website in DF[\"Website\"]\n",
        "])\n",
        "\n",
        "coincidencias = DF[\"Website\"][condicion]\n",
        "print(\"Páginas con terminación .ru:\", coincidencias.tolist())\n",
        "\n",
        "# Calcular el vector modificado de PageRank\n",
        "vector_SSJ2 = PR_modificado(matriz_kaioken, condicion)\n",
        "\n",
        "# Imprimir el resultado\n",
        "print(\"Vector PageRank modificado:\", vector_SSJ2)\n"
      ],
      "metadata": {
        "colab": {
          "base_uri": "https://localhost:8080/"
        },
        "id": "VzngIAyHjwDW",
        "outputId": "f90e151b-7815-4e72-babc-35f84fb05251"
      },
      "execution_count": 68,
      "outputs": [
        {
          "output_type": "stream",
          "name": "stdout",
          "text": [
            "Páginas con terminación .ru: ['yandex.ru', 'lenta.ru', 'gazeta.ru', 'ria.ru', 'rbk.ru', 'tass.ru', 'iz.ru', 'kommersant.ru', 'vedomosti.ru', 'regnum.ru']\n",
            "Vector PageRank modificado: [[0.         0.         0.         0.         0.         0.\n",
            "  0.         0.         0.         0.         0.         0.\n",
            "  0.         0.         0.         0.09375007 0.09375    0.09374982\n",
            "  0.09375018 0.12499973 0.09375018 0.09375001 0.09375008 0.12500005\n",
            "  0.09374989 0.        ]]\n"
          ]
        }
      ]
    },
    {
      "cell_type": "code",
      "source": [
        "#Pregunta 3\n",
        "\n",
        "def PR_d(matriz, d, Epsilon_tercios=1e-6):\n",
        "\n",
        "    n = len(matriz)  #Numero de nodos\n",
        "\n",
        "    #Matriz u\n",
        "    u = np.ones((n, n)) / n\n",
        "\n",
        "\n",
        "    matriz_mplus = d * matriz + (1 - d) * u\n",
        "\n",
        "    #Calcular el PageRank utilizando la matriz modificada\n",
        "    return calcular_PR(matriz_mplus, Epsilon_tercios)\n",
        "\n",
        "#Valores de d a analizar\n",
        "valores_d = [0.5, 0.85, 1]\n",
        "\n",
        "#Diccionario para almacenar los resultados de cada valor de d\n",
        "resultados_d = {}\n",
        "\n",
        "#Calcular el PageRank para cada valor de d\n",
        "for d in valores_d:\n",
        "    resultados_d[d] = PR_d(matriz_kaioken, d)\n",
        "    print(\"PageRank con\",d)\n",
        "    print(resultados_d[d])"
      ],
      "metadata": {
        "colab": {
          "base_uri": "https://localhost:8080/"
        },
        "id": "3uVmUQRa8Ab_",
        "outputId": "16df4545-42b5-4b38-a43e-6c3ec4e3725e"
      },
      "execution_count": 65,
      "outputs": [
        {
          "output_type": "stream",
          "name": "stdout",
          "text": [
            "PageRank con 0.5\n",
            "[0.03276549 0.03755851 0.03342875 0.04702054 0.03173843 0.03527269\n",
            " 0.04338471 0.03600769 0.0395377  0.03503242 0.0298904  0.03074748\n",
            " 0.03496692 0.03363201 0.04040186 0.03719881 0.03783815 0.03708623\n",
            " 0.03722273 0.04384511 0.03722273 0.03705013 0.0363509  0.04385451\n",
            " 0.03694609 0.07399901]\n",
            "PageRank con 0.85\n",
            "[0.02375518 0.03083679 0.02284086 0.041152   0.02072416 0.02682135\n",
            " 0.03861176 0.02747867 0.0330701  0.02855831 0.01910243 0.01997687\n",
            " 0.02556454 0.02504939 0.03183435 0.03643144 0.03676753 0.03632114\n",
            " 0.03648717 0.04684119 0.03648717 0.03626792 0.03593937 0.04688206\n",
            " 0.0361904  0.20000787]\n",
            "PageRank con 1\n",
            "[7.33320314e-07 1.01764169e-06 6.33367242e-07 1.36085707e-06\n",
            " 5.34701306e-07 8.20661192e-07 1.37005441e-06 8.33927232e-07\n",
            " 1.10169011e-06 9.60685274e-07 5.04500778e-07 5.24041574e-07\n",
            " 7.54179322e-07 7.57679334e-07 9.73391912e-07 3.60576923e-02\n",
            " 3.60576923e-02 3.60576923e-02 3.60576923e-02 4.80769231e-02\n",
            " 3.60576923e-02 3.60576923e-02 3.60576923e-02 4.80769231e-02\n",
            " 3.60576923e-02 6.15371735e-01]\n"
          ]
        }
      ]
    }
  ]
}